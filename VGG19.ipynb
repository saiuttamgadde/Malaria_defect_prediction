{
  "nbformat": 4,
  "nbformat_minor": 0,
  "metadata": {
    "colab": {
      "name": "VGG19.ipynb",
      "provenance": [],
      "authorship_tag": "ABX9TyNOT3gPJseOqU77AWcv12qY",
      "include_colab_link": true
    },
    "kernelspec": {
      "name": "python3",
      "display_name": "Python 3"
    },
    "language_info": {
      "name": "python"
    },
    "accelerator": "GPU"
  },
  "cells": [
    {
      "cell_type": "markdown",
      "metadata": {
        "id": "view-in-github",
        "colab_type": "text"
      },
      "source": [
        "<a href=\"https://colab.research.google.com/github/saiuttamgadde/Malaria_defect_prediction/blob/main/VGG19.ipynb\" target=\"_parent\"><img src=\"https://colab.research.google.com/assets/colab-badge.svg\" alt=\"Open In Colab\"/></a>"
      ]
    },
    {
      "cell_type": "code",
      "metadata": {
        "colab": {
          "base_uri": "https://localhost:8080/"
        },
        "id": "kp_IEYnJ1rBh",
        "outputId": "c7d6866c-ef3a-4277-d885-9b71b2295ef0"
      },
      "source": [
        "from google.colab import drive\n",
        "drive.mount('/content/drive')"
      ],
      "execution_count": 1,
      "outputs": [
        {
          "output_type": "stream",
          "name": "stdout",
          "text": [
            "Mounted at /content/drive\n"
          ]
        }
      ]
    },
    {
      "cell_type": "code",
      "metadata": {
        "colab": {
          "base_uri": "https://localhost:8080/"
        },
        "id": "mtbuKjSy14K8",
        "outputId": "ddfa0af4-f34f-4f32-e1b8-af0d1997709e"
      },
      "source": [
        "with open('/content/drive/My Drive/foo.txt', 'w') as f:\n",
        "  f.write('Hello Google Drive!')\n",
        "!cat /content/drive/My\\ Drive/foo.txt"
      ],
      "execution_count": 2,
      "outputs": [
        {
          "output_type": "stream",
          "name": "stdout",
          "text": [
            "Hello Google Drive!"
          ]
        }
      ]
    },
    {
      "cell_type": "code",
      "metadata": {
        "colab": {
          "base_uri": "https://localhost:8080/"
        },
        "id": "Lw-Qbdz52YsG",
        "outputId": "5cae22d2-842d-45eb-bca5-f5e5de52febf"
      },
      "source": [
        "import tensorflow as tf\n",
        "print(tf.__version__)"
      ],
      "execution_count": 3,
      "outputs": [
        {
          "output_type": "stream",
          "name": "stdout",
          "text": [
            "2.6.0\n"
          ]
        }
      ]
    },
    {
      "cell_type": "markdown",
      "metadata": {
        "id": "593BgZPv4BWc"
      },
      "source": [
        "Resize all the images and define train and test path"
      ]
    },
    {
      "cell_type": "code",
      "metadata": {
        "id": "pyVxtX-13OTW"
      },
      "source": [
        "img_size = [224,224]\n",
        "\n",
        "train_path = '/content/drive/MyDrive/Dataset/Train'\n",
        "valid_path = '/content/drive/MyDrive/Dataset/Test'"
      ],
      "execution_count": 4,
      "outputs": []
    },
    {
      "cell_type": "code",
      "metadata": {
        "id": "rQpv9IqJ4ogH"
      },
      "source": [
        "from tensorflow.keras.layers import Input, Lambda, Dense, Flatten,Conv2D\n",
        "from tensorflow.keras.models import Model\n",
        "from tensorflow.keras.applications.vgg19 import VGG19\n",
        "from tensorflow.keras.applications.resnet50 import preprocess_input\n",
        "from tensorflow.keras.preprocessing import image\n",
        "from tensorflow.keras.preprocessing.image import ImageDataGenerator,load_img\n",
        "from tensorflow.keras.models import Sequential\n",
        "import numpy as np\n",
        "from glob import glob\n",
        "import matplotlib.pyplot as plt"
      ],
      "execution_count": 5,
      "outputs": []
    },
    {
      "cell_type": "markdown",
      "metadata": {
        "id": "XKjtOceD5y2r"
      },
      "source": [
        "Import VGG19 library and add preprocessing layer. [3] is RGB channels and use imagenet weights"
      ]
    },
    {
      "cell_type": "code",
      "metadata": {
        "id": "o_U0e6n05xD4"
      },
      "source": [
        "model = VGG19(input_shape=img_size + [3], weights='imagenet', include_top=False)"
      ],
      "execution_count": 12,
      "outputs": []
    },
    {
      "cell_type": "markdown",
      "metadata": {
        "id": "shv9oLs56liK"
      },
      "source": [
        "Imagenet is trained on millions of classes and don't train all the layers"
      ]
    },
    {
      "cell_type": "code",
      "metadata": {
        "id": "jI9ChR9y6VIe"
      },
      "source": [
        "for layer in model.layers:\n",
        "    layer.trainable = False"
      ],
      "execution_count": 13,
      "outputs": []
    },
    {
      "cell_type": "code",
      "metadata": {
        "id": "uoz7PS-e7SJ-"
      },
      "source": [
        "folders = glob('/content/drive/MyDrive/Dataset/Train/*')"
      ],
      "execution_count": 14,
      "outputs": []
    },
    {
      "cell_type": "code",
      "metadata": {
        "colab": {
          "base_uri": "https://localhost:8080/"
        },
        "id": "zzP2iH4r8SBy",
        "outputId": "5b3f549c-7777-4bba-ba69-91f18ee1a8b6"
      },
      "source": [
        "folders"
      ],
      "execution_count": 15,
      "outputs": [
        {
          "output_type": "execute_result",
          "data": {
            "text/plain": [
              "['/content/drive/MyDrive/Dataset/Train/Parasite',\n",
              " '/content/drive/MyDrive/Dataset/Train/Uninfected']"
            ]
          },
          "metadata": {},
          "execution_count": 15
        }
      ]
    },
    {
      "cell_type": "code",
      "metadata": {
        "id": "ZC1vR03t8maj"
      },
      "source": [
        "x=Flatten()(model.output)"
      ],
      "execution_count": 16,
      "outputs": []
    },
    {
      "cell_type": "markdown",
      "metadata": {
        "id": "zQZtuob0-KOE"
      },
      "source": [
        "softmax as output contains two nodes"
      ]
    },
    {
      "cell_type": "code",
      "metadata": {
        "id": "9q-ZyaFV8taQ"
      },
      "source": [
        "prediction=Dense(len(folders),activation='softmax')(x)\n",
        "\n",
        "final_model = Model(inputs=model.input,outputs=prediction)"
      ],
      "execution_count": 18,
      "outputs": []
    },
    {
      "cell_type": "code",
      "metadata": {
        "colab": {
          "base_uri": "https://localhost:8080/"
        },
        "id": "ll10GM_O9FaG",
        "outputId": "52cdca6e-d0d5-45d3-dabb-5dccc817fbbe"
      },
      "source": [
        "final_model.summary()"
      ],
      "execution_count": 20,
      "outputs": [
        {
          "output_type": "stream",
          "name": "stdout",
          "text": [
            "Model: \"model\"\n",
            "_________________________________________________________________\n",
            "Layer (type)                 Output Shape              Param #   \n",
            "=================================================================\n",
            "input_2 (InputLayer)         [(None, 224, 224, 3)]     0         \n",
            "_________________________________________________________________\n",
            "block1_conv1 (Conv2D)        (None, 224, 224, 64)      1792      \n",
            "_________________________________________________________________\n",
            "block1_conv2 (Conv2D)        (None, 224, 224, 64)      36928     \n",
            "_________________________________________________________________\n",
            "block1_pool (MaxPooling2D)   (None, 112, 112, 64)      0         \n",
            "_________________________________________________________________\n",
            "block2_conv1 (Conv2D)        (None, 112, 112, 128)     73856     \n",
            "_________________________________________________________________\n",
            "block2_conv2 (Conv2D)        (None, 112, 112, 128)     147584    \n",
            "_________________________________________________________________\n",
            "block2_pool (MaxPooling2D)   (None, 56, 56, 128)       0         \n",
            "_________________________________________________________________\n",
            "block3_conv1 (Conv2D)        (None, 56, 56, 256)       295168    \n",
            "_________________________________________________________________\n",
            "block3_conv2 (Conv2D)        (None, 56, 56, 256)       590080    \n",
            "_________________________________________________________________\n",
            "block3_conv3 (Conv2D)        (None, 56, 56, 256)       590080    \n",
            "_________________________________________________________________\n",
            "block3_conv4 (Conv2D)        (None, 56, 56, 256)       590080    \n",
            "_________________________________________________________________\n",
            "block3_pool (MaxPooling2D)   (None, 28, 28, 256)       0         \n",
            "_________________________________________________________________\n",
            "block4_conv1 (Conv2D)        (None, 28, 28, 512)       1180160   \n",
            "_________________________________________________________________\n",
            "block4_conv2 (Conv2D)        (None, 28, 28, 512)       2359808   \n",
            "_________________________________________________________________\n",
            "block4_conv3 (Conv2D)        (None, 28, 28, 512)       2359808   \n",
            "_________________________________________________________________\n",
            "block4_conv4 (Conv2D)        (None, 28, 28, 512)       2359808   \n",
            "_________________________________________________________________\n",
            "block4_pool (MaxPooling2D)   (None, 14, 14, 512)       0         \n",
            "_________________________________________________________________\n",
            "block5_conv1 (Conv2D)        (None, 14, 14, 512)       2359808   \n",
            "_________________________________________________________________\n",
            "block5_conv2 (Conv2D)        (None, 14, 14, 512)       2359808   \n",
            "_________________________________________________________________\n",
            "block5_conv3 (Conv2D)        (None, 14, 14, 512)       2359808   \n",
            "_________________________________________________________________\n",
            "block5_conv4 (Conv2D)        (None, 14, 14, 512)       2359808   \n",
            "_________________________________________________________________\n",
            "block5_pool (MaxPooling2D)   (None, 7, 7, 512)         0         \n",
            "_________________________________________________________________\n",
            "flatten (Flatten)            (None, 25088)             0         \n",
            "_________________________________________________________________\n",
            "dense (Dense)                (None, 2)                 50178     \n",
            "=================================================================\n",
            "Total params: 20,074,562\n",
            "Trainable params: 50,178\n",
            "Non-trainable params: 20,024,384\n",
            "_________________________________________________________________\n"
          ]
        }
      ]
    },
    {
      "cell_type": "markdown",
      "metadata": {
        "id": "rp9N4XnF967V"
      },
      "source": [
        "Define model cost and optimization method and as the output contains two nodes, not one use categorical cross entropy"
      ]
    },
    {
      "cell_type": "code",
      "metadata": {
        "id": "S591z4vO9NUE"
      },
      "source": [
        "final_model.compile(\n",
        "  loss='categorical_crossentropy',\n",
        "  optimizer='adam',\n",
        "  metrics=['accuracy']\n",
        ")"
      ],
      "execution_count": 30,
      "outputs": []
    },
    {
      "cell_type": "markdown",
      "metadata": {
        "id": "kHQjLK4Y_RAc"
      },
      "source": [
        "generate more train data usig image data generator and only rescale the image pixels ranging from 0 to 255 to 0 to 1"
      ]
    },
    {
      "cell_type": "code",
      "metadata": {
        "id": "Nr2A1zI1-aY_"
      },
      "source": [
        "from tensorflow.keras.preprocessing.image import ImageDataGenerator\n",
        "\n",
        "train_datagen = ImageDataGenerator(rescale = 1./255,\n",
        "                                   shear_range = 0.2,\n",
        "                                   zoom_range = 0.2,\n",
        "                                   horizontal_flip = True)\n",
        "\n",
        "test_datagen = ImageDataGenerator(rescale = 1./255)"
      ],
      "execution_count": 31,
      "outputs": []
    },
    {
      "cell_type": "markdown",
      "metadata": {
        "id": "gKQsPUvTAJAd"
      },
      "source": [
        "provide same target size as initiated for image size"
      ]
    },
    {
      "cell_type": "code",
      "metadata": {
        "colab": {
          "base_uri": "https://localhost:8080/"
        },
        "id": "e6SNsT1N_fZ_",
        "outputId": "d03e020a-170d-4902-c5a4-fb939a3a40ae"
      },
      "source": [
        "training_set = train_datagen.flow_from_directory('/content/drive/MyDrive/Dataset/Train',\n",
        "                                                 target_size = (224, 224),\n",
        "                                                 batch_size = 32,\n",
        "                                                 class_mode = 'categorical')"
      ],
      "execution_count": 32,
      "outputs": [
        {
          "output_type": "stream",
          "name": "stdout",
          "text": [
            "Found 416 images belonging to 2 classes.\n"
          ]
        }
      ]
    },
    {
      "cell_type": "code",
      "metadata": {
        "colab": {
          "base_uri": "https://localhost:8080/"
        },
        "id": "o3p_nmXEARM8",
        "outputId": "07f65bc6-f817-4cc9-ab75-ea4b71d24fa0"
      },
      "source": [
        "\n",
        "test_set = test_datagen.flow_from_directory('/content/drive/MyDrive/Dataset/Test',\n",
        "                                            target_size = (224, 224),\n",
        "                                            batch_size = 32,\n",
        "                                            class_mode = 'categorical')"
      ],
      "execution_count": 33,
      "outputs": [
        {
          "output_type": "stream",
          "name": "stdout",
          "text": [
            "Found 134 images belonging to 2 classes.\n"
          ]
        }
      ]
    },
    {
      "cell_type": "markdown",
      "metadata": {
        "id": "1kIbThiEAjyE"
      },
      "source": [
        "Fit the model"
      ]
    },
    {
      "cell_type": "code",
      "metadata": {
        "colab": {
          "base_uri": "https://localhost:8080/"
        },
        "id": "RxW4FmI2AeSm",
        "outputId": "459386a6-3305-4df5-8950-fc659e31f00e"
      },
      "source": [
        "r = final_model.fit_generator(\n",
        "  training_set,\n",
        "  validation_data=test_set,\n",
        "  epochs=20,\n",
        "  steps_per_epoch=len(training_set),\n",
        "  validation_steps=len(test_set)\n",
        ")"
      ],
      "execution_count": 38,
      "outputs": [
        {
          "output_type": "stream",
          "name": "stderr",
          "text": [
            "/usr/local/lib/python3.7/dist-packages/keras/engine/training.py:1972: UserWarning: `Model.fit_generator` is deprecated and will be removed in a future version. Please use `Model.fit`, which supports generators.\n",
            "  warnings.warn('`Model.fit_generator` is deprecated and '\n"
          ]
        },
        {
          "output_type": "stream",
          "name": "stdout",
          "text": [
            "Epoch 1/20\n",
            "13/13 [==============================] - 8s 617ms/step - loss: 0.2092 - accuracy: 0.9183 - val_loss: 0.3327 - val_accuracy: 0.8582\n",
            "Epoch 2/20\n",
            "13/13 [==============================] - 8s 614ms/step - loss: 0.1581 - accuracy: 0.9447 - val_loss: 0.3232 - val_accuracy: 0.8582\n",
            "Epoch 3/20\n",
            "13/13 [==============================] - 8s 602ms/step - loss: 0.1880 - accuracy: 0.9207 - val_loss: 0.2535 - val_accuracy: 0.8881\n",
            "Epoch 4/20\n",
            "13/13 [==============================] - 8s 607ms/step - loss: 0.2434 - accuracy: 0.8990 - val_loss: 0.2368 - val_accuracy: 0.9254\n",
            "Epoch 5/20\n",
            "13/13 [==============================] - 8s 603ms/step - loss: 0.1427 - accuracy: 0.9591 - val_loss: 0.3282 - val_accuracy: 0.8358\n",
            "Epoch 6/20\n",
            "13/13 [==============================] - 8s 597ms/step - loss: 0.1454 - accuracy: 0.9447 - val_loss: 0.2126 - val_accuracy: 0.9328\n",
            "Epoch 7/20\n",
            "13/13 [==============================] - 8s 596ms/step - loss: 0.1582 - accuracy: 0.9327 - val_loss: 0.2536 - val_accuracy: 0.9104\n",
            "Epoch 8/20\n",
            "13/13 [==============================] - 8s 595ms/step - loss: 0.1716 - accuracy: 0.9303 - val_loss: 0.3050 - val_accuracy: 0.8657\n",
            "Epoch 9/20\n",
            "13/13 [==============================] - 8s 605ms/step - loss: 0.1530 - accuracy: 0.9447 - val_loss: 0.2305 - val_accuracy: 0.9104\n",
            "Epoch 10/20\n",
            "13/13 [==============================] - 8s 602ms/step - loss: 0.1313 - accuracy: 0.9567 - val_loss: 0.1990 - val_accuracy: 0.9403\n",
            "Epoch 11/20\n",
            "13/13 [==============================] - 8s 611ms/step - loss: 0.1195 - accuracy: 0.9543 - val_loss: 0.2075 - val_accuracy: 0.9328\n",
            "Epoch 12/20\n",
            "13/13 [==============================] - 8s 616ms/step - loss: 0.1546 - accuracy: 0.9447 - val_loss: 0.4201 - val_accuracy: 0.7761\n",
            "Epoch 13/20\n",
            "13/13 [==============================] - 8s 606ms/step - loss: 0.1086 - accuracy: 0.9712 - val_loss: 0.2004 - val_accuracy: 0.9478\n",
            "Epoch 14/20\n",
            "13/13 [==============================] - 8s 608ms/step - loss: 0.1355 - accuracy: 0.9519 - val_loss: 0.1966 - val_accuracy: 0.9478\n",
            "Epoch 15/20\n",
            "13/13 [==============================] - 8s 607ms/step - loss: 0.1143 - accuracy: 0.9712 - val_loss: 0.1959 - val_accuracy: 0.9403\n",
            "Epoch 16/20\n",
            "13/13 [==============================] - 8s 614ms/step - loss: 0.0943 - accuracy: 0.9760 - val_loss: 0.5854 - val_accuracy: 0.7537\n",
            "Epoch 17/20\n",
            "13/13 [==============================] - 8s 609ms/step - loss: 0.1038 - accuracy: 0.9688 - val_loss: 0.2741 - val_accuracy: 0.8881\n",
            "Epoch 18/20\n",
            "13/13 [==============================] - 8s 606ms/step - loss: 0.0922 - accuracy: 0.9736 - val_loss: 0.2250 - val_accuracy: 0.9104\n",
            "Epoch 19/20\n",
            "13/13 [==============================] - 8s 606ms/step - loss: 0.0889 - accuracy: 0.9784 - val_loss: 0.2104 - val_accuracy: 0.9254\n",
            "Epoch 20/20\n",
            "13/13 [==============================] - 8s 613ms/step - loss: 0.0915 - accuracy: 0.9688 - val_loss: 0.2391 - val_accuracy: 0.9030\n"
          ]
        }
      ]
    },
    {
      "cell_type": "code",
      "metadata": {
        "colab": {
          "base_uri": "https://localhost:8080/",
          "height": 282
        },
        "id": "x5hfcOEJA9Q6",
        "outputId": "fd6420fc-ae20-4851-df24-68535ddb6352"
      },
      "source": [
        "#plot loss\n",
        "plt.plot(r.history['loss'], label='train loss')\n",
        "plt.plot(r.history['val_loss'], label='val loss')\n",
        "plt.legend()\n",
        "plt.show()\n",
        "plt.savefig('LossVal_loss')\n"
      ],
      "execution_count": 39,
      "outputs": [
        {
          "output_type": "display_data",
          "data": {
            "image/png": "[encoded data removed]",
            "text/plain": [
              "<Figure size 432x288 with 1 Axes>"
            ]
          },
          "metadata": {
            "needs_background": "light"
          }
        },
        {
          "output_type": "display_data",
          "data": {
            "text/plain": [
              "<Figure size 432x288 with 0 Axes>"
            ]
          },
          "metadata": {}
        }
      ]
    },
    {
      "cell_type": "code",
      "metadata": {
        "colab": {
          "base_uri": "https://localhost:8080/",
          "height": 282
        },
        "id": "6ujnEEZVDXuB",
        "outputId": "fac037dc-a90f-476d-9667-fe1b263fd456"
      },
      "source": [
        "# plot the accuracy\n",
        "plt.plot(r.history['accuracy'], label='train acc')\n",
        "plt.plot(r.history['val_accuracy'], label='val acc')\n",
        "plt.legend()\n",
        "plt.show()\n",
        "plt.savefig('AccVal_acc')"
      ],
      "execution_count": 40,
      "outputs": [
        {
          "output_type": "display_data",
          "data": {
            "image/png": "[encoded data removed]",
            "text/plain": [
              "<Figure size 432x288 with 1 Axes>"
            ]
          },
          "metadata": {
            "needs_background": "light"
          }
        },
        {
          "output_type": "display_data",
          "data": {
            "text/plain": [
              "<Figure size 432x288 with 0 Axes>"
            ]
          },
          "metadata": {}
        }
      ]
    },
    {
      "cell_type": "code",
      "metadata": {
        "id": "06faRopZEoAl"
      },
      "source": [
        "#save the model\n",
        "\n",
        "from tensorflow.keras.models import load_model\n",
        "\n",
        "model.save('model_vgg19.h5')\n"
      ],
      "execution_count": 41,
      "outputs": []
    },
    {
      "cell_type": "code",
      "metadata": {
        "id": "PiahCbj1E5Rq"
      },
      "source": [
        ""
      ],
      "execution_count": null,
      "outputs": []
    }
  ]
}